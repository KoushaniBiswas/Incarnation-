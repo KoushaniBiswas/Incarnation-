{
  "nbformat": 4,
  "nbformat_minor": 0,
  "metadata": {
    "colab": {
      "name": "heatmap generation.ipynb",
      "provenance": [],
      "authorship_tag": "ABX9TyMHyT0QirE+g3EqtxRaHX/b",
      "include_colab_link": true
    },
    "kernelspec": {
      "name": "python3",
      "display_name": "Python 3"
    }
  },
  "cells": [
    {
      "cell_type": "markdown",
      "metadata": {
        "id": "view-in-github",
        "colab_type": "text"
      },
      "source": [
        "<a href=\"https://colab.research.google.com/github/KoushaniBiswas/Incarnation-/blob/master/heatmap_generation.ipynb\" target=\"_parent\"><img src=\"https://colab.research.google.com/assets/colab-badge.svg\" alt=\"Open In Colab\"/></a>"
      ]
    },
    {
      "cell_type": "code",
      "metadata": {
        "id": "heYH0XFRcR0v",
        "colab_type": "code",
        "colab": {
          "resources": {
            "http://localhost:8080/nbextensions/google.colab/files.js": {
              "data": "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",
              "ok": true,
              "headers": [
                [
                  "content-type",
                  "application/javascript"
                ]
              ],
              "status": 200,
              "status_text": "OK"
            }
          },
          "base_uri": "https://localhost:8080/",
          "height": 112
        },
        "outputId": "29477e51-36ac-413b-9797-9aa3ef7b8650"
      },
      "source": [
        "from google.colab import files\n",
        "files.upload()"
      ],
      "execution_count": 1,
      "outputs": [
        {
          "output_type": "display_data",
          "data": {
            "text/html": [
              "\n",
              "     <input type=\"file\" id=\"files-6e1ed01e-d97c-42ea-9819-df76b6869656\" name=\"files[]\" multiple disabled\n",
              "        style=\"border:none\" />\n",
              "     <output id=\"result-6e1ed01e-d97c-42ea-9819-df76b6869656\">\n",
              "      Upload widget is only available when the cell has been executed in the\n",
              "      current browser session. Please rerun this cell to enable.\n",
              "      </output>\n",
              "      <script src=\"/nbextensions/google.colab/files.js\"></script> "
            ],
            "text/plain": [
              "<IPython.core.display.HTML object>"
            ]
          },
          "metadata": {
            "tags": []
          }
        },
        {
          "output_type": "stream",
          "text": [
            "Saving inflammation-07.csv to inflammation-07.csv\n"
          ],
          "name": "stdout"
        },
        {
          "output_type": "execute_result",
          "data": {
            "text/plain": [
              "{'inflammation-07.csv': b'0,1,0,2,2,5,6,2,4,7,2,2,11,5,6,4,4,7,18,17,9,5,7,15,10,4,10,3,3,2,3,4,3,7,3,3,4,1,1,1\\n0,1,0,2,3,4,1,5,3,9,2,5,8,10,10,14,15,16,7,9,10,14,6,9,4,6,6,12,7,3,9,5,6,7,3,2,1,0,0,1\\n0,0,1,2,3,4,6,7,6,4,5,9,6,13,5,12,8,10,7,6,7,12,8,13,6,9,14,6,12,2,9,9,3,3,2,2,1,1,1,0\\n0,1,2,2,1,1,3,4,7,4,2,7,12,6,9,10,12,8,11,15,5,16,18,10,16,8,7,8,5,4,6,8,4,4,5,2,1,2,2,1\\n0,0,2,1,2,5,3,5,6,4,4,2,9,3,10,15,5,17,16,6,6,16,7,6,13,8,4,5,3,10,2,2,8,5,3,3,2,1,0,0\\n0,0,1,0,2,5,1,1,7,5,3,10,8,10,7,6,10,11,8,17,8,17,7,7,7,14,8,9,4,5,8,3,7,3,3,5,4,2,2,0\\n0,1,0,3,1,1,1,1,6,5,7,3,4,4,9,10,12,8,5,19,14,15,11,5,4,13,7,10,3,5,5,5,8,5,1,3,4,1,0,0\\n0,0,1,0,1,2,1,1,6,7,10,10,6,13,11,6,6,11,5,5,14,18,14,14,5,3,12,5,7,8,4,5,7,1,3,4,4,2,2,0\\n0,0,2,1,1,4,6,5,5,6,2,2,6,4,10,6,5,15,12,5,12,14,9,16,8,10,9,7,4,10,5,5,7,3,1,3,2,2,1,0\\n0,0,2,2,1,1,6,4,6,3,10,6,12,5,5,10,8,6,10,14,15,17,17,4,15,12,7,3,11,6,8,4,4,1,5,4,1,3,1,1\\n0,1,2,0,2,2,4,7,4,4,4,3,6,3,9,8,13,12,8,5,6,12,14,5,10,6,7,10,11,7,6,4,8,3,4,5,4,1,1,0\\n0,0,2,0,4,2,2,5,3,6,6,7,9,4,3,13,16,10,16,5,12,7,12,5,5,12,4,12,4,9,6,4,6,5,4,3,1,3,0,1\\n0,1,0,3,1,5,1,5,7,4,10,4,7,12,11,8,13,17,5,15,18,12,5,17,13,3,8,4,12,2,7,3,8,7,5,4,4,3,0,1\\n0,0,1,2,2,4,5,3,6,8,4,11,8,4,4,4,6,17,5,10,15,15,7,13,16,12,4,9,8,4,4,5,4,6,5,2,4,1,0,0\\n0,0,0,3,1,4,6,5,4,3,5,9,9,9,8,5,5,5,17,10,19,10,8,9,11,4,9,7,3,8,4,6,3,6,4,4,1,3,2,1\\n0,1,1,1,2,2,1,7,2,5,9,5,8,3,7,3,5,7,10,10,13,8,4,5,8,12,7,8,12,2,9,4,4,1,5,3,2,3,1,0\\n0,0,1,3,4,5,5,1,3,3,8,2,5,3,8,14,15,5,6,8,16,15,7,12,11,11,7,4,12,7,4,8,8,1,6,2,1,1,2,1\\n0,1,1,1,1,4,2,4,4,4,6,8,11,13,12,3,9,11,14,17,12,16,8,13,7,15,14,9,10,7,7,3,2,2,1,3,3,1,0,1\\n0,0,1,3,4,1,6,3,4,3,7,3,9,5,12,7,8,11,17,17,13,7,7,5,14,5,11,4,7,2,9,4,7,1,3,4,1,1,1,0\\n0,0,1,3,3,2,5,3,6,4,5,8,12,4,12,13,7,5,16,12,20,4,16,7,5,3,10,11,5,10,10,7,2,7,4,5,2,3,2,0\\n0,0,1,0,2,2,2,1,4,8,10,4,12,9,6,9,5,13,15,12,20,12,12,11,15,10,4,7,4,7,6,2,5,7,5,5,1,0,2,0\\n0,0,1,0,1,2,4,4,3,2,2,5,10,5,10,4,10,16,9,14,5,16,11,13,5,3,9,13,7,6,3,7,2,7,1,1,4,1,1,1\\n0,1,1,1,3,3,4,3,2,8,10,9,4,13,4,15,10,12,4,15,7,9,16,16,7,8,8,10,5,9,4,3,4,5,6,2,1,1,0,1\\n0,1,0,2,2,4,1,4,5,8,10,5,8,13,10,4,5,7,16,18,20,10,13,12,15,12,12,13,9,9,10,3,3,3,6,4,2,3,1,0\\n0,0,1,1,4,5,2,1,2,8,10,7,4,5,11,11,7,7,17,6,14,5,17,8,9,15,9,12,12,5,8,6,6,3,1,1,2,3,1,1\\n0,1,1,0,3,1,4,5,4,2,10,4,10,12,5,7,13,9,18,5,8,19,13,8,7,14,4,13,3,11,3,7,3,2,1,1,2,3,2,1\\n0,1,2,2,4,2,3,6,4,2,5,7,10,8,5,11,8,16,14,19,11,5,10,10,4,9,9,11,7,9,5,9,3,7,2,4,3,2,1,1\\n0,0,1,1,3,4,3,3,4,6,4,5,3,12,11,14,14,9,13,7,19,5,14,16,16,11,10,10,9,3,6,3,4,5,6,1,3,0,0,1\\n0,0,0,1,2,4,6,7,7,2,3,5,9,10,8,3,9,13,9,13,17,10,13,14,11,13,13,12,3,3,7,8,7,4,3,3,1,0,0,0\\n0,0,2,2,3,5,6,3,7,8,8,11,4,6,6,3,13,5,10,11,14,19,14,12,7,10,14,10,7,4,4,5,2,5,4,1,4,1,2,1\\n0,0,2,1,1,2,1,2,8,8,8,5,5,5,11,3,16,6,9,13,15,8,15,5,15,6,7,7,11,2,2,6,3,1,6,5,3,2,1,0\\n0,1,1,3,2,5,3,3,4,6,7,2,7,6,14,6,15,13,7,5,5,12,10,7,6,15,14,12,4,6,3,8,7,5,2,4,4,3,1,0\\n0,1,1,3,1,5,1,7,8,6,8,8,7,7,7,10,6,17,9,10,15,12,11,13,4,8,11,9,11,5,7,5,4,1,3,4,3,0,2,1\\n0,1,0,1,3,3,2,2,4,8,8,4,5,6,6,10,14,5,6,13,12,16,15,12,7,6,4,7,10,7,7,7,3,6,5,3,3,2,0,0\\n0,1,1,1,1,1,5,6,4,6,8,9,12,10,7,15,16,14,13,15,15,7,13,11,7,7,11,13,7,3,10,3,3,1,6,2,2,1,1,1\\n0,1,2,2,4,4,5,1,2,3,10,3,12,10,11,7,10,8,4,11,14,19,16,14,8,7,14,5,5,4,3,6,4,4,2,3,3,3,1,1\\n0,0,1,1,4,1,4,7,6,7,2,6,7,6,12,13,9,9,16,6,16,4,14,6,14,14,9,11,6,11,5,3,4,5,3,3,3,0,1,1\\n0,1,0,3,4,2,5,7,5,2,3,10,12,8,7,7,10,10,5,18,13,18,16,13,9,12,12,6,12,6,5,2,7,7,5,1,4,1,1,0\\n0,1,1,2,3,2,1,3,8,5,10,7,9,7,6,7,5,4,14,4,14,18,11,13,6,13,6,13,4,11,7,8,2,2,1,5,4,1,2,1\\n0,1,1,2,3,2,5,1,3,3,10,10,7,12,4,11,13,9,10,12,13,6,11,11,6,7,11,11,12,3,5,7,3,5,2,3,4,0,0,1\\n0,1,2,2,1,5,6,1,4,4,5,4,8,10,4,4,13,16,6,11,13,18,4,15,15,4,5,4,8,3,6,6,2,1,1,1,4,3,2,0\\n0,1,1,3,3,3,2,1,2,9,2,2,6,9,10,3,5,16,9,6,18,16,12,8,11,15,7,11,4,8,8,4,8,3,2,1,3,2,2,1\\n0,0,1,0,4,1,2,5,7,8,6,4,10,6,5,3,16,16,4,12,14,10,17,10,13,12,10,10,8,2,4,3,5,7,5,3,4,2,1,0\\n0,1,0,3,3,1,4,5,5,7,7,8,4,7,13,12,16,7,4,8,5,9,10,17,16,7,9,13,4,6,8,6,5,5,2,3,2,3,0,0\\n0,0,2,3,3,2,3,7,7,7,2,8,11,7,10,6,12,5,6,7,14,14,5,4,13,4,9,6,3,10,4,2,3,7,1,1,3,3,0,1\\n0,1,1,3,3,4,3,2,6,2,3,5,6,10,6,6,7,6,12,19,19,8,5,14,12,6,4,8,11,6,2,4,4,2,5,2,4,1,0,0\\n0,1,1,0,2,3,4,4,6,7,7,9,11,3,10,15,5,9,9,9,20,17,12,6,9,11,3,5,12,11,6,7,4,6,1,1,1,2,1,0\\n0,1,2,3,4,3,2,1,4,7,3,10,6,10,4,3,15,12,15,6,11,14,8,4,12,6,4,12,11,7,9,8,6,2,1,2,4,3,1,0\\n0,1,2,0,1,2,3,7,5,5,4,9,8,4,4,14,6,8,17,15,5,19,8,6,15,5,12,9,8,7,5,5,7,7,2,2,4,1,0,1\\n0,0,1,1,4,5,1,3,5,2,9,10,7,11,5,12,14,15,12,15,16,11,4,6,16,6,12,12,4,2,10,4,8,4,2,5,4,3,2,1\\n0,1,0,1,3,5,1,7,4,5,4,7,7,6,13,13,10,14,5,9,16,4,7,9,14,12,5,6,9,11,4,6,5,6,2,3,1,0,0,0\\n0,0,0,0,4,3,4,7,3,8,3,6,9,3,3,9,15,6,11,8,20,8,15,10,12,4,14,5,4,9,4,9,5,7,3,4,1,1,1,0\\n0,1,1,1,2,2,6,1,2,3,7,3,3,7,5,13,12,6,5,7,7,6,17,11,4,10,12,7,11,7,8,6,5,4,1,4,3,3,2,1\\n0,1,1,0,3,4,5,5,8,7,8,6,5,12,4,8,7,8,13,7,6,17,8,4,8,15,3,7,5,11,5,8,6,2,4,4,2,3,0,0\\n0,1,2,3,1,3,1,1,5,4,2,9,12,8,7,6,16,15,9,15,16,18,4,12,16,3,12,12,12,10,7,5,2,5,5,3,4,2,2,1\\n0,1,2,0,2,3,1,1,2,4,9,6,6,13,7,3,6,13,14,17,12,6,11,14,12,5,13,5,8,11,4,2,6,7,6,4,4,3,2,0\\n0,0,0,0,2,5,4,3,3,6,8,8,9,9,10,11,16,5,8,13,11,6,5,12,14,8,4,3,6,6,5,7,7,4,2,4,3,2,2,1\\n0,1,2,2,4,2,3,2,4,4,8,8,6,4,3,8,9,12,16,19,5,5,10,11,16,15,11,8,5,6,6,4,4,6,6,4,3,3,2,1\\n0,1,0,2,3,4,4,4,4,7,2,6,5,9,14,8,13,12,13,10,7,18,15,17,14,15,3,11,6,3,10,4,3,3,2,1,3,1,0,0\\n0,0,0,0,1,3,3,6,2,5,7,7,10,6,12,4,9,15,13,14,15,7,13,16,16,14,9,4,12,11,6,8,6,3,5,3,1,3,0,1\\n'}"
            ]
          },
          "metadata": {
            "tags": []
          },
          "execution_count": 1
        }
      ]
    },
    {
      "cell_type": "code",
      "metadata": {
        "id": "7DF0uHXCcyaU",
        "colab_type": "code",
        "colab": {
          "base_uri": "https://localhost:8080/",
          "height": 136
        },
        "outputId": "24400806-85d4-4963-e300-f28b21cb7e28"
      },
      "source": [
        "import matplotlib.pyplot\n",
        "image = matplotlib.pyplot.imshow(inflammation-07)\n",
        "matplotlob.pyplot.show()"
      ],
      "execution_count": 4,
      "outputs": [
        {
          "output_type": "error",
          "ename": "SyntaxError",
          "evalue": "ignored",
          "traceback": [
            "\u001b[0;36m  File \u001b[0;32m\"<ipython-input-4-4e313733e81e>\"\u001b[0;36m, line \u001b[0;32m2\u001b[0m\n\u001b[0;31m    image = matplotlib.pyplot.imshow(inflammation-07)\u001b[0m\n\u001b[0m                                                   ^\u001b[0m\n\u001b[0;31mSyntaxError\u001b[0m\u001b[0;31m:\u001b[0m invalid token\n"
          ]
        }
      ]
    },
    {
      "cell_type": "code",
      "metadata": {
        "id": "LLIjIMWPewCa",
        "colab_type": "code",
        "colab": {}
      },
      "source": [
        ""
      ],
      "execution_count": null,
      "outputs": []
    },
    {
      "cell_type": "code",
      "metadata": {
        "id": "hneqvxccdBe_",
        "colab_type": "code",
        "colab": {}
      },
      "source": [
        "import matplotlib.pyplot as plt\n",
        "import pandas as pd\n",
        "import numpy as np"
      ],
      "execution_count": 6,
      "outputs": []
    },
    {
      "cell_type": "code",
      "metadata": {
        "id": "PEJDkEjdevAv",
        "colab_type": "code",
        "colab": {
          "base_uri": "https://localhost:8080/",
          "height": 226
        },
        "outputId": "b1542855-e979-4317-842c-da61734d5ec6"
      },
      "source": [
        "helix = pd.read_csv('inflammation-07.csv')\n",
        "helix.head() #to see whether the data has been imported properly"
      ],
      "execution_count": 7,
      "outputs": [
        {
          "output_type": "execute_result",
          "data": {
            "text/html": [
              "<div>\n",
              "<style scoped>\n",
              "    .dataframe tbody tr th:only-of-type {\n",
              "        vertical-align: middle;\n",
              "    }\n",
              "\n",
              "    .dataframe tbody tr th {\n",
              "        vertical-align: top;\n",
              "    }\n",
              "\n",
              "    .dataframe thead th {\n",
              "        text-align: right;\n",
              "    }\n",
              "</style>\n",
              "<table border=\"1\" class=\"dataframe\">\n",
              "  <thead>\n",
              "    <tr style=\"text-align: right;\">\n",
              "      <th></th>\n",
              "      <th>0</th>\n",
              "      <th>1</th>\n",
              "      <th>0.1</th>\n",
              "      <th>2</th>\n",
              "      <th>2.1</th>\n",
              "      <th>5</th>\n",
              "      <th>6</th>\n",
              "      <th>2.2</th>\n",
              "      <th>4</th>\n",
              "      <th>7</th>\n",
              "      <th>2.3</th>\n",
              "      <th>2.4</th>\n",
              "      <th>11</th>\n",
              "      <th>5.1</th>\n",
              "      <th>6.1</th>\n",
              "      <th>4.1</th>\n",
              "      <th>4.2</th>\n",
              "      <th>7.1</th>\n",
              "      <th>18</th>\n",
              "      <th>17</th>\n",
              "      <th>9</th>\n",
              "      <th>5.2</th>\n",
              "      <th>7.2</th>\n",
              "      <th>15</th>\n",
              "      <th>10</th>\n",
              "      <th>4.3</th>\n",
              "      <th>10.1</th>\n",
              "      <th>3</th>\n",
              "      <th>3.1</th>\n",
              "      <th>2.5</th>\n",
              "      <th>3.2</th>\n",
              "      <th>4.4</th>\n",
              "      <th>3.3</th>\n",
              "      <th>7.3</th>\n",
              "      <th>3.4</th>\n",
              "      <th>3.5</th>\n",
              "      <th>4.5</th>\n",
              "      <th>1.1</th>\n",
              "      <th>1.2</th>\n",
              "      <th>1.3</th>\n",
              "    </tr>\n",
              "  </thead>\n",
              "  <tbody>\n",
              "    <tr>\n",
              "      <th>0</th>\n",
              "      <td>0</td>\n",
              "      <td>1</td>\n",
              "      <td>0</td>\n",
              "      <td>2</td>\n",
              "      <td>3</td>\n",
              "      <td>4</td>\n",
              "      <td>1</td>\n",
              "      <td>5</td>\n",
              "      <td>3</td>\n",
              "      <td>9</td>\n",
              "      <td>2</td>\n",
              "      <td>5</td>\n",
              "      <td>8</td>\n",
              "      <td>10</td>\n",
              "      <td>10</td>\n",
              "      <td>14</td>\n",
              "      <td>15</td>\n",
              "      <td>16</td>\n",
              "      <td>7</td>\n",
              "      <td>9</td>\n",
              "      <td>10</td>\n",
              "      <td>14</td>\n",
              "      <td>6</td>\n",
              "      <td>9</td>\n",
              "      <td>4</td>\n",
              "      <td>6</td>\n",
              "      <td>6</td>\n",
              "      <td>12</td>\n",
              "      <td>7</td>\n",
              "      <td>3</td>\n",
              "      <td>9</td>\n",
              "      <td>5</td>\n",
              "      <td>6</td>\n",
              "      <td>7</td>\n",
              "      <td>3</td>\n",
              "      <td>2</td>\n",
              "      <td>1</td>\n",
              "      <td>0</td>\n",
              "      <td>0</td>\n",
              "      <td>1</td>\n",
              "    </tr>\n",
              "    <tr>\n",
              "      <th>1</th>\n",
              "      <td>0</td>\n",
              "      <td>0</td>\n",
              "      <td>1</td>\n",
              "      <td>2</td>\n",
              "      <td>3</td>\n",
              "      <td>4</td>\n",
              "      <td>6</td>\n",
              "      <td>7</td>\n",
              "      <td>6</td>\n",
              "      <td>4</td>\n",
              "      <td>5</td>\n",
              "      <td>9</td>\n",
              "      <td>6</td>\n",
              "      <td>13</td>\n",
              "      <td>5</td>\n",
              "      <td>12</td>\n",
              "      <td>8</td>\n",
              "      <td>10</td>\n",
              "      <td>7</td>\n",
              "      <td>6</td>\n",
              "      <td>7</td>\n",
              "      <td>12</td>\n",
              "      <td>8</td>\n",
              "      <td>13</td>\n",
              "      <td>6</td>\n",
              "      <td>9</td>\n",
              "      <td>14</td>\n",
              "      <td>6</td>\n",
              "      <td>12</td>\n",
              "      <td>2</td>\n",
              "      <td>9</td>\n",
              "      <td>9</td>\n",
              "      <td>3</td>\n",
              "      <td>3</td>\n",
              "      <td>2</td>\n",
              "      <td>2</td>\n",
              "      <td>1</td>\n",
              "      <td>1</td>\n",
              "      <td>1</td>\n",
              "      <td>0</td>\n",
              "    </tr>\n",
              "    <tr>\n",
              "      <th>2</th>\n",
              "      <td>0</td>\n",
              "      <td>1</td>\n",
              "      <td>2</td>\n",
              "      <td>2</td>\n",
              "      <td>1</td>\n",
              "      <td>1</td>\n",
              "      <td>3</td>\n",
              "      <td>4</td>\n",
              "      <td>7</td>\n",
              "      <td>4</td>\n",
              "      <td>2</td>\n",
              "      <td>7</td>\n",
              "      <td>12</td>\n",
              "      <td>6</td>\n",
              "      <td>9</td>\n",
              "      <td>10</td>\n",
              "      <td>12</td>\n",
              "      <td>8</td>\n",
              "      <td>11</td>\n",
              "      <td>15</td>\n",
              "      <td>5</td>\n",
              "      <td>16</td>\n",
              "      <td>18</td>\n",
              "      <td>10</td>\n",
              "      <td>16</td>\n",
              "      <td>8</td>\n",
              "      <td>7</td>\n",
              "      <td>8</td>\n",
              "      <td>5</td>\n",
              "      <td>4</td>\n",
              "      <td>6</td>\n",
              "      <td>8</td>\n",
              "      <td>4</td>\n",
              "      <td>4</td>\n",
              "      <td>5</td>\n",
              "      <td>2</td>\n",
              "      <td>1</td>\n",
              "      <td>2</td>\n",
              "      <td>2</td>\n",
              "      <td>1</td>\n",
              "    </tr>\n",
              "    <tr>\n",
              "      <th>3</th>\n",
              "      <td>0</td>\n",
              "      <td>0</td>\n",
              "      <td>2</td>\n",
              "      <td>1</td>\n",
              "      <td>2</td>\n",
              "      <td>5</td>\n",
              "      <td>3</td>\n",
              "      <td>5</td>\n",
              "      <td>6</td>\n",
              "      <td>4</td>\n",
              "      <td>4</td>\n",
              "      <td>2</td>\n",
              "      <td>9</td>\n",
              "      <td>3</td>\n",
              "      <td>10</td>\n",
              "      <td>15</td>\n",
              "      <td>5</td>\n",
              "      <td>17</td>\n",
              "      <td>16</td>\n",
              "      <td>6</td>\n",
              "      <td>6</td>\n",
              "      <td>16</td>\n",
              "      <td>7</td>\n",
              "      <td>6</td>\n",
              "      <td>13</td>\n",
              "      <td>8</td>\n",
              "      <td>4</td>\n",
              "      <td>5</td>\n",
              "      <td>3</td>\n",
              "      <td>10</td>\n",
              "      <td>2</td>\n",
              "      <td>2</td>\n",
              "      <td>8</td>\n",
              "      <td>5</td>\n",
              "      <td>3</td>\n",
              "      <td>3</td>\n",
              "      <td>2</td>\n",
              "      <td>1</td>\n",
              "      <td>0</td>\n",
              "      <td>0</td>\n",
              "    </tr>\n",
              "    <tr>\n",
              "      <th>4</th>\n",
              "      <td>0</td>\n",
              "      <td>0</td>\n",
              "      <td>1</td>\n",
              "      <td>0</td>\n",
              "      <td>2</td>\n",
              "      <td>5</td>\n",
              "      <td>1</td>\n",
              "      <td>1</td>\n",
              "      <td>7</td>\n",
              "      <td>5</td>\n",
              "      <td>3</td>\n",
              "      <td>10</td>\n",
              "      <td>8</td>\n",
              "      <td>10</td>\n",
              "      <td>7</td>\n",
              "      <td>6</td>\n",
              "      <td>10</td>\n",
              "      <td>11</td>\n",
              "      <td>8</td>\n",
              "      <td>17</td>\n",
              "      <td>8</td>\n",
              "      <td>17</td>\n",
              "      <td>7</td>\n",
              "      <td>7</td>\n",
              "      <td>7</td>\n",
              "      <td>14</td>\n",
              "      <td>8</td>\n",
              "      <td>9</td>\n",
              "      <td>4</td>\n",
              "      <td>5</td>\n",
              "      <td>8</td>\n",
              "      <td>3</td>\n",
              "      <td>7</td>\n",
              "      <td>3</td>\n",
              "      <td>3</td>\n",
              "      <td>5</td>\n",
              "      <td>4</td>\n",
              "      <td>2</td>\n",
              "      <td>2</td>\n",
              "      <td>0</td>\n",
              "    </tr>\n",
              "  </tbody>\n",
              "</table>\n",
              "</div>"
            ],
            "text/plain": [
              "   0  1  0.1  2  2.1  5  6  2.2  4  ...  4.4  3.3  7.3  3.4  3.5  4.5  1.1  1.2  1.3\n",
              "0  0  1    0  2    3  4  1    5  3  ...    5    6    7    3    2    1    0    0    1\n",
              "1  0  0    1  2    3  4  6    7  6  ...    9    3    3    2    2    1    1    1    0\n",
              "2  0  1    2  2    1  1  3    4  7  ...    8    4    4    5    2    1    2    2    1\n",
              "3  0  0    2  1    2  5  3    5  6  ...    2    8    5    3    3    2    1    0    0\n",
              "4  0  0    1  0    2  5  1    1  7  ...    3    7    3    3    5    4    2    2    0\n",
              "\n",
              "[5 rows x 40 columns]"
            ]
          },
          "metadata": {
            "tags": []
          },
          "execution_count": 7
        }
      ]
    },
    {
      "cell_type": "code",
      "metadata": {
        "id": "BS4tF9o2fIkg",
        "colab_type": "code",
        "colab": {
          "base_uri": "https://localhost:8080/",
          "height": 36
        },
        "outputId": "503ee64d-87fc-413d-f713-31277a40068c"
      },
      "source": [
        "helix.shape #shapeof data frame"
      ],
      "execution_count": 8,
      "outputs": [
        {
          "output_type": "execute_result",
          "data": {
            "text/plain": [
              "(59, 40)"
            ]
          },
          "metadata": {
            "tags": []
          },
          "execution_count": 8
        }
      ]
    },
    {
      "cell_type": "code",
      "metadata": {
        "id": "u47YKBJ-fUf_",
        "colab_type": "code",
        "colab": {
          "base_uri": "https://localhost:8080/",
          "height": 381
        },
        "outputId": "ce398862-3014-45fe-d4cd-e4dabd6338e3"
      },
      "source": [
        "helix.rows #checking what columns are there"
      ],
      "execution_count": 10,
      "outputs": [
        {
          "output_type": "error",
          "ename": "AttributeError",
          "evalue": "ignored",
          "traceback": [
            "\u001b[0;31m---------------------------------------------------------------------------\u001b[0m",
            "\u001b[0;31mAttributeError\u001b[0m                            Traceback (most recent call last)",
            "\u001b[0;32m<ipython-input-10-77f6c143f0f0>\u001b[0m in \u001b[0;36m<module>\u001b[0;34m()\u001b[0m\n\u001b[0;32m----> 1\u001b[0;31m \u001b[0mhelix\u001b[0m\u001b[0;34m.\u001b[0m\u001b[0mrows\u001b[0m \u001b[0;31m#checking what columns are there\u001b[0m\u001b[0;34m\u001b[0m\u001b[0;34m\u001b[0m\u001b[0m\n\u001b[0m",
            "\u001b[0;32m/usr/local/lib/python3.6/dist-packages/pandas/core/generic.py\u001b[0m in \u001b[0;36m__getattr__\u001b[0;34m(self, name)\u001b[0m\n\u001b[1;32m   5272\u001b[0m             \u001b[0;32mif\u001b[0m \u001b[0mself\u001b[0m\u001b[0;34m.\u001b[0m\u001b[0m_info_axis\u001b[0m\u001b[0;34m.\u001b[0m\u001b[0m_can_hold_identifiers_and_holds_name\u001b[0m\u001b[0;34m(\u001b[0m\u001b[0mname\u001b[0m\u001b[0;34m)\u001b[0m\u001b[0;34m:\u001b[0m\u001b[0;34m\u001b[0m\u001b[0;34m\u001b[0m\u001b[0m\n\u001b[1;32m   5273\u001b[0m                 \u001b[0;32mreturn\u001b[0m \u001b[0mself\u001b[0m\u001b[0;34m[\u001b[0m\u001b[0mname\u001b[0m\u001b[0;34m]\u001b[0m\u001b[0;34m\u001b[0m\u001b[0;34m\u001b[0m\u001b[0m\n\u001b[0;32m-> 5274\u001b[0;31m             \u001b[0;32mreturn\u001b[0m \u001b[0mobject\u001b[0m\u001b[0;34m.\u001b[0m\u001b[0m__getattribute__\u001b[0m\u001b[0;34m(\u001b[0m\u001b[0mself\u001b[0m\u001b[0;34m,\u001b[0m \u001b[0mname\u001b[0m\u001b[0;34m)\u001b[0m\u001b[0;34m\u001b[0m\u001b[0;34m\u001b[0m\u001b[0m\n\u001b[0m\u001b[1;32m   5275\u001b[0m \u001b[0;34m\u001b[0m\u001b[0m\n\u001b[1;32m   5276\u001b[0m     \u001b[0;32mdef\u001b[0m \u001b[0m__setattr__\u001b[0m\u001b[0;34m(\u001b[0m\u001b[0mself\u001b[0m\u001b[0;34m,\u001b[0m \u001b[0mname\u001b[0m\u001b[0;34m:\u001b[0m \u001b[0mstr\u001b[0m\u001b[0;34m,\u001b[0m \u001b[0mvalue\u001b[0m\u001b[0;34m)\u001b[0m \u001b[0;34m->\u001b[0m \u001b[0;32mNone\u001b[0m\u001b[0;34m:\u001b[0m\u001b[0;34m\u001b[0m\u001b[0;34m\u001b[0m\u001b[0m\n",
            "\u001b[0;31mAttributeError\u001b[0m: 'DataFrame' object has no attribute 'rows'"
          ]
        }
      ]
    },
    {
      "cell_type": "code",
      "metadata": {
        "id": "lYwo_Q0mfb4Q",
        "colab_type": "code",
        "colab": {}
      },
      "source": [
        "import matplotlib.pyplot as plt\n",
        "import numpy as np\n"
      ],
      "execution_count": 11,
      "outputs": []
    },
    {
      "cell_type": "code",
      "metadata": {
        "id": "lvZWsT28gFeR",
        "colab_type": "code",
        "colab": {
          "base_uri": "https://localhost:8080/",
          "height": 136
        },
        "outputId": "703856a6-d925-4bb7-db61-4edda2f8f7c0"
      },
      "source": [
        "image = plt.imshow(inflammation-07.csv)\n",
        "plt.show()"
      ],
      "execution_count": 12,
      "outputs": [
        {
          "output_type": "error",
          "ename": "SyntaxError",
          "evalue": "ignored",
          "traceback": [
            "\u001b[0;36m  File \u001b[0;32m\"<ipython-input-12-d39372b717b6>\"\u001b[0;36m, line \u001b[0;32m1\u001b[0m\n\u001b[0;31m    image = plt.imshow(inflammation-07.csv)\u001b[0m\n\u001b[0m                                         ^\u001b[0m\n\u001b[0;31mSyntaxError\u001b[0m\u001b[0;31m:\u001b[0m invalid syntax\n"
          ]
        }
      ]
    },
    {
      "cell_type": "code",
      "metadata": {
        "id": "hxzN8q3pgRY6",
        "colab_type": "code",
        "colab": {
          "base_uri": "https://localhost:8080/",
          "height": 362
        },
        "outputId": "e2a82df3-ae41-4b91-f875-aeed6badd4ea"
      },
      "source": [
        "import data"
      ],
      "execution_count": 13,
      "outputs": [
        {
          "output_type": "error",
          "ename": "ModuleNotFoundError",
          "evalue": "ignored",
          "traceback": [
            "\u001b[0;31m---------------------------------------------------------------------------\u001b[0m",
            "\u001b[0;31mModuleNotFoundError\u001b[0m                       Traceback (most recent call last)",
            "\u001b[0;32m<ipython-input-13-341be17fdccc>\u001b[0m in \u001b[0;36m<module>\u001b[0;34m()\u001b[0m\n\u001b[0;32m----> 1\u001b[0;31m \u001b[0;32mimport\u001b[0m \u001b[0mdata\u001b[0m\u001b[0;34m\u001b[0m\u001b[0;34m\u001b[0m\u001b[0m\n\u001b[0m",
            "\u001b[0;31mModuleNotFoundError\u001b[0m: No module named 'data'",
            "",
            "\u001b[0;31m---------------------------------------------------------------------------\u001b[0;32m\nNOTE: If your import is failing due to a missing package, you can\nmanually install dependencies using either !pip or !apt.\n\nTo view examples of installing some common dependencies, click the\n\"Open Examples\" button below.\n\u001b[0;31m---------------------------------------------------------------------------\u001b[0m\n"
          ]
        }
      ]
    },
    {
      "cell_type": "code",
      "metadata": {
        "id": "NvTiwpephLPx",
        "colab_type": "code",
        "colab": {
          "base_uri": "https://localhost:8080/",
          "height": 136
        },
        "outputId": "eedd5717-e1e7-476d-eb2f-f7ea6bb65532"
      },
      "source": [
        "import numpy as np\n",
        "import matplotlib.pyplot as plt\n",
        "data = np.genfromtxt('inflammation-07.csv, delimiter=',')"
      ],
      "execution_count": 14,
      "outputs": [
        {
          "output_type": "error",
          "ename": "SyntaxError",
          "evalue": "ignored",
          "traceback": [
            "\u001b[0;36m  File \u001b[0;32m\"<ipython-input-14-2c3002405d52>\"\u001b[0;36m, line \u001b[0;32m3\u001b[0m\n\u001b[0;31m    data = np.genfromtxt('inflammation-07.csv, delimiter=',')\u001b[0m\n\u001b[0m                                                             ^\u001b[0m\n\u001b[0;31mSyntaxError\u001b[0m\u001b[0;31m:\u001b[0m EOL while scanning string literal\n"
          ]
        }
      ]
    },
    {
      "cell_type": "code",
      "metadata": {
        "id": "2VbA8AFuiAzw",
        "colab_type": "code",
        "colab": {
          "resources": {
            "http://localhost:8080/nbextensions/google.colab/files.js": {
              "data": "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",
              "ok": true,
              "headers": [
                [
                  "content-type",
                  "application/javascript"
                ]
              ],
              "status": 200,
              "status_text": "OK"
            }
          },
          "base_uri": "https://localhost:8080/",
          "height": 112
        },
        "outputId": "fae8957b-f10c-4999-cc01-96fd5a305c64"
      },
      "source": [
        "from google.colab import files\n",
        "files.upload()"
      ],
      "execution_count": 15,
      "outputs": [
        {
          "output_type": "display_data",
          "data": {
            "text/html": [
              "\n",
              "     <input type=\"file\" id=\"files-ae7551a9-25dd-4fb3-9c70-1b6d5022555d\" name=\"files[]\" multiple disabled\n",
              "        style=\"border:none\" />\n",
              "     <output id=\"result-ae7551a9-25dd-4fb3-9c70-1b6d5022555d\">\n",
              "      Upload widget is only available when the cell has been executed in the\n",
              "      current browser session. Please rerun this cell to enable.\n",
              "      </output>\n",
              "      <script src=\"/nbextensions/google.colab/files.js\"></script> "
            ],
            "text/plain": [
              "<IPython.core.display.HTML object>"
            ]
          },
          "metadata": {
            "tags": []
          }
        },
        {
          "output_type": "stream",
          "text": [
            "Saving inflammation-01.csv to inflammation-01.csv\n"
          ],
          "name": "stdout"
        },
        {
          "output_type": "execute_result",
          "data": {
            "text/plain": [
              "{'inflammation-01.csv': b'0,0,1,3,1,2,4,7,8,3,3,3,10,5,7,4,7,7,12,18,6,13,11,11,7,7,4,6,8,8,4,4,5,7,3,4,2,3,0,0\\n0,1,2,1,2,1,3,2,2,6,10,11,5,9,4,4,7,16,8,6,18,4,12,5,12,7,11,5,11,3,3,5,4,4,5,5,1,1,0,1\\n0,1,1,3,3,2,6,2,5,9,5,7,4,5,4,15,5,11,9,10,19,14,12,17,7,12,11,7,4,2,10,5,4,2,2,3,2,2,1,1\\n0,0,2,0,4,2,2,1,6,7,10,7,9,13,8,8,15,10,10,7,17,4,4,7,6,15,6,4,9,11,3,5,6,3,3,4,2,3,2,1\\n0,1,1,3,3,1,3,5,2,4,4,7,6,5,3,10,8,10,6,17,9,14,9,7,13,9,12,6,7,7,9,6,3,2,2,4,2,0,1,1\\n0,0,1,2,2,4,2,1,6,4,7,6,6,9,9,15,4,16,18,12,12,5,18,9,5,3,10,3,12,7,8,4,7,3,5,4,4,3,2,1\\n0,0,2,2,4,2,2,5,5,8,6,5,11,9,4,13,5,12,10,6,9,17,15,8,9,3,13,7,8,2,8,8,4,2,3,5,4,1,1,1\\n0,0,1,2,3,1,2,3,5,3,7,8,8,5,10,9,15,11,18,19,20,8,5,13,15,10,6,10,6,7,4,9,3,5,2,5,3,2,2,1\\n0,0,0,3,1,5,6,5,5,8,2,4,11,12,10,11,9,10,17,11,6,16,12,6,8,14,6,13,10,11,4,6,4,7,6,3,2,1,0,0\\n0,1,1,2,1,3,5,3,5,8,6,8,12,5,13,6,13,8,16,8,18,15,16,14,12,7,3,8,9,11,2,5,4,5,1,4,1,2,0,0\\n0,1,0,0,4,3,3,5,5,4,5,8,7,10,13,3,7,13,15,18,8,15,15,16,11,14,12,4,10,10,4,3,4,5,5,3,3,2,2,1\\n0,1,0,0,3,4,2,7,8,5,2,8,11,5,5,8,14,11,6,11,9,16,18,6,12,5,4,3,5,7,8,3,5,4,5,5,4,0,1,1\\n0,0,2,1,4,3,6,4,6,7,9,9,3,11,6,12,4,17,13,15,13,12,8,7,4,7,12,9,5,6,5,4,7,3,5,4,2,3,0,1\\n0,0,0,0,1,3,1,6,6,5,5,6,3,6,13,3,10,13,9,16,15,9,11,4,6,4,11,11,12,3,5,8,7,4,6,4,1,3,0,0\\n0,1,2,1,1,1,4,1,5,2,3,3,10,7,13,5,7,17,6,9,12,13,10,4,12,4,6,7,6,10,8,2,5,1,3,4,2,0,2,0\\n0,1,1,0,1,2,4,3,6,4,7,5,5,7,5,10,7,8,18,17,9,8,12,11,11,11,14,6,11,2,10,9,5,6,5,3,4,2,2,0\\n0,0,0,0,2,3,6,5,7,4,3,2,10,7,9,11,12,5,12,9,13,19,14,17,5,13,8,11,5,10,9,8,7,5,3,1,4,0,2,1\\n0,0,0,1,2,1,4,3,6,7,4,2,12,6,12,4,14,7,8,14,13,19,6,9,12,6,4,13,6,7,2,3,6,5,4,2,3,0,1,0\\n0,0,2,1,2,5,4,2,7,8,4,7,11,9,8,11,15,17,11,12,7,12,7,6,7,4,13,5,7,6,6,9,2,1,1,2,2,0,1,0\\n0,1,2,0,1,4,3,2,2,7,3,3,12,13,11,13,6,5,9,16,9,19,16,11,8,9,14,12,11,9,6,6,6,1,1,2,4,3,1,1\\n0,1,1,3,1,4,4,1,8,2,2,3,12,12,10,15,13,6,5,5,18,19,9,6,11,12,7,6,3,6,3,2,4,3,1,5,4,2,2,0\\n0,0,2,3,2,3,2,6,3,8,7,4,6,6,9,5,12,12,8,5,12,10,16,7,14,12,5,4,6,9,8,5,6,6,1,4,3,0,2,0\\n0,0,0,3,4,5,1,7,7,8,2,5,12,4,10,14,5,5,17,13,16,15,13,6,12,9,10,3,3,7,4,4,8,2,6,5,1,0,1,0\\n0,1,1,1,1,3,3,2,6,3,9,7,8,8,4,13,7,14,11,15,14,13,5,13,7,14,9,10,5,11,5,3,5,1,1,4,4,1,2,0\\n0,1,1,1,2,3,5,3,6,3,7,10,3,8,12,4,12,9,15,5,17,16,5,10,10,15,7,5,3,11,5,5,6,1,1,1,1,0,2,1\\n0,0,2,1,3,3,2,7,4,4,3,8,12,9,12,9,5,16,8,17,7,11,14,7,13,11,7,12,12,7,8,5,7,2,2,4,1,1,1,0\\n0,0,1,2,4,2,2,3,5,7,10,5,5,12,3,13,4,13,7,15,9,12,18,14,16,12,3,11,3,2,7,4,8,2,2,1,3,0,1,1\\n0,0,1,1,1,5,1,5,2,2,4,10,4,8,14,6,15,6,12,15,15,13,7,17,4,5,11,4,8,7,9,4,5,3,2,5,4,3,2,1\\n0,0,2,2,3,4,6,3,7,6,4,5,8,4,7,7,6,11,12,19,20,18,9,5,4,7,14,8,4,3,7,7,8,3,5,4,1,3,1,0\\n0,0,0,1,4,4,6,3,8,6,4,10,12,3,3,6,8,7,17,16,14,15,17,4,14,13,4,4,12,11,6,9,5,5,2,5,2,1,0,1\\n0,1,1,0,3,2,4,6,8,6,2,3,11,3,14,14,12,8,8,16,13,7,6,9,15,7,6,4,10,8,10,4,2,6,5,5,2,3,2,1\\n0,0,2,3,3,4,5,3,6,7,10,5,10,13,14,3,8,10,9,9,19,15,15,6,8,8,11,5,5,7,3,6,6,4,5,2,2,3,0,0\\n0,1,2,2,2,3,6,6,6,7,6,3,11,12,13,15,15,10,14,11,11,8,6,12,10,5,12,7,7,11,5,8,5,2,5,5,2,0,2,1\\n0,0,2,1,3,5,6,7,5,8,9,3,12,10,12,4,12,9,13,10,10,6,10,11,4,15,13,7,3,4,2,9,7,2,4,2,1,2,1,1\\n0,0,1,2,4,1,5,5,2,3,4,8,8,12,5,15,9,17,7,19,14,18,12,17,14,4,13,13,8,11,5,6,6,2,3,5,2,1,1,1\\n0,0,0,3,1,3,6,4,3,4,8,3,4,8,3,11,5,7,10,5,15,9,16,17,16,3,8,9,8,3,3,9,5,1,6,5,4,2,2,0\\n0,1,2,2,2,5,5,1,4,6,3,6,5,9,6,7,4,7,16,7,16,13,9,16,12,6,7,9,10,3,6,4,5,4,6,3,4,3,2,1\\n0,1,1,2,3,1,5,1,2,2,5,7,6,6,5,10,6,7,17,13,15,16,17,14,4,4,10,10,10,11,9,9,5,4,4,2,1,0,1,0\\n0,1,0,3,2,4,1,1,5,9,10,7,12,10,9,15,12,13,13,6,19,9,10,6,13,5,13,6,7,2,5,5,2,1,1,1,1,3,0,1\\n0,1,1,3,1,1,5,5,3,7,2,2,3,12,4,6,8,15,16,16,15,4,14,5,13,10,7,10,6,3,2,3,6,3,3,5,4,3,2,1\\n0,0,0,2,2,1,3,4,5,5,6,5,5,12,13,5,7,5,11,15,18,7,9,10,14,12,11,9,10,3,2,9,6,2,2,5,3,0,0,1\\n0,0,1,3,3,1,2,1,8,9,2,8,10,3,8,6,10,13,11,17,19,6,4,11,6,12,7,5,5,4,4,8,2,6,6,4,2,2,0,0\\n0,1,1,3,4,5,2,1,3,7,9,6,10,5,8,15,11,12,15,6,12,16,6,4,14,3,12,9,6,11,5,8,5,5,6,1,2,1,2,0\\n0,0,1,3,1,4,3,6,7,8,5,7,11,3,6,11,6,10,6,19,18,14,6,10,7,9,8,5,8,3,10,2,5,1,5,4,2,1,0,1\\n0,1,1,3,3,4,4,6,3,4,9,9,7,6,8,15,12,15,6,11,6,18,5,14,15,12,9,8,3,6,10,6,8,7,2,5,4,3,1,1\\n0,1,2,2,4,3,1,4,8,9,5,10,10,3,4,6,7,11,16,6,14,9,11,10,10,7,10,8,8,4,5,8,4,4,5,2,4,1,1,0\\n0,0,2,3,4,5,4,6,2,9,7,4,9,10,8,11,16,12,15,17,19,10,18,13,15,11,8,4,7,11,6,7,6,5,1,3,1,0,0,0\\n0,1,1,3,1,4,6,2,8,2,10,3,11,9,13,15,5,15,6,10,10,5,14,15,12,7,4,5,11,4,6,9,5,6,1,1,2,1,2,1\\n0,0,1,3,2,5,1,2,7,6,6,3,12,9,4,14,4,6,12,9,12,7,11,7,16,8,13,6,7,6,10,7,6,3,1,5,4,3,0,0\\n0,0,1,2,3,4,5,7,5,4,10,5,12,12,5,4,7,9,18,16,16,10,15,15,10,4,3,7,5,9,4,6,2,4,1,4,2,2,2,1\\n0,1,2,1,1,3,5,3,6,3,10,10,11,10,13,10,13,6,6,14,5,4,5,5,9,4,12,7,7,4,7,9,3,3,6,3,4,1,2,0\\n0,1,2,2,3,5,2,4,5,6,8,3,5,4,3,15,15,12,16,7,20,15,12,8,9,6,12,5,8,3,8,5,4,1,3,2,1,3,1,0\\n0,0,0,2,4,4,5,3,3,3,10,4,4,4,14,11,15,13,10,14,11,17,9,11,11,7,10,12,10,10,10,8,7,5,2,2,4,1,2,1\\n0,0,2,1,1,4,4,7,2,9,4,10,12,7,6,6,11,12,9,15,15,6,6,13,5,12,9,6,4,7,7,6,5,4,1,4,2,2,2,1\\n0,1,2,1,1,4,5,4,4,5,9,7,10,3,13,13,8,9,17,16,16,15,12,13,5,12,10,9,11,9,4,5,5,2,2,5,1,0,0,1\\n0,0,1,3,2,3,6,4,5,7,2,4,11,11,3,8,8,16,5,13,16,5,8,8,6,9,10,10,9,3,3,5,3,5,4,5,3,3,0,1\\n0,1,1,2,2,5,1,7,4,2,5,5,4,6,6,4,16,11,14,16,14,14,8,17,4,14,13,7,6,3,7,7,5,6,3,4,2,2,1,1\\n0,1,1,1,4,1,6,4,6,3,6,5,6,4,14,13,13,9,12,19,9,10,15,10,9,10,10,7,5,6,8,6,6,4,3,5,2,1,1,1\\n0,0,0,1,4,5,6,3,8,7,9,10,8,6,5,12,15,5,10,5,8,13,18,17,14,9,13,4,10,11,10,8,8,6,5,5,2,0,2,0\\n0,0,1,0,3,2,5,4,8,2,9,3,3,10,12,9,14,11,13,8,6,18,11,9,13,11,8,5,5,2,8,5,3,5,4,1,3,1,1,0\\n'}"
            ]
          },
          "metadata": {
            "tags": []
          },
          "execution_count": 15
        }
      ]
    },
    {
      "cell_type": "code",
      "metadata": {
        "id": "nkc02HeXiSfK",
        "colab_type": "code",
        "colab": {
          "base_uri": "https://localhost:8080/",
          "height": 1000
        },
        "outputId": "ada4071e-3dfb-459a-b5c3-cdcc55762c10"
      },
      "source": [
        "#to read a csv file\n",
        "import csv\n",
        "with open('inflammation-01.csv', 'r') as csv_file:\n",
        "  csv_reader = csv.reader(csv_file)\n",
        "  for line in csv_reader:\n",
        "    print(line)"
      ],
      "execution_count": 18,
      "outputs": [
        {
          "output_type": "stream",
          "text": [
            "['0', '0', '1', '3', '1', '2', '4', '7', '8', '3', '3', '3', '10', '5', '7', '4', '7', '7', '12', '18', '6', '13', '11', '11', '7', '7', '4', '6', '8', '8', '4', '4', '5', '7', '3', '4', '2', '3', '0', '0']\n",
            "['0', '1', '2', '1', '2', '1', '3', '2', '2', '6', '10', '11', '5', '9', '4', '4', '7', '16', '8', '6', '18', '4', '12', '5', '12', '7', '11', '5', '11', '3', '3', '5', '4', '4', '5', '5', '1', '1', '0', '1']\n",
            "['0', '1', '1', '3', '3', '2', '6', '2', '5', '9', '5', '7', '4', '5', '4', '15', '5', '11', '9', '10', '19', '14', '12', '17', '7', '12', '11', '7', '4', '2', '10', '5', '4', '2', '2', '3', '2', '2', '1', '1']\n",
            "['0', '0', '2', '0', '4', '2', '2', '1', '6', '7', '10', '7', '9', '13', '8', '8', '15', '10', '10', '7', '17', '4', '4', '7', '6', '15', '6', '4', '9', '11', '3', '5', '6', '3', '3', '4', '2', '3', '2', '1']\n",
            "['0', '1', '1', '3', '3', '1', '3', '5', '2', '4', '4', '7', '6', '5', '3', '10', '8', '10', '6', '17', '9', '14', '9', '7', '13', '9', '12', '6', '7', '7', '9', '6', '3', '2', '2', '4', '2', '0', '1', '1']\n",
            "['0', '0', '1', '2', '2', '4', '2', '1', '6', '4', '7', '6', '6', '9', '9', '15', '4', '16', '18', '12', '12', '5', '18', '9', '5', '3', '10', '3', '12', '7', '8', '4', '7', '3', '5', '4', '4', '3', '2', '1']\n",
            "['0', '0', '2', '2', '4', '2', '2', '5', '5', '8', '6', '5', '11', '9', '4', '13', '5', '12', '10', '6', '9', '17', '15', '8', '9', '3', '13', '7', '8', '2', '8', '8', '4', '2', '3', '5', '4', '1', '1', '1']\n",
            "['0', '0', '1', '2', '3', '1', '2', '3', '5', '3', '7', '8', '8', '5', '10', '9', '15', '11', '18', '19', '20', '8', '5', '13', '15', '10', '6', '10', '6', '7', '4', '9', '3', '5', '2', '5', '3', '2', '2', '1']\n",
            "['0', '0', '0', '3', '1', '5', '6', '5', '5', '8', '2', '4', '11', '12', '10', '11', '9', '10', '17', '11', '6', '16', '12', '6', '8', '14', '6', '13', '10', '11', '4', '6', '4', '7', '6', '3', '2', '1', '0', '0']\n",
            "['0', '1', '1', '2', '1', '3', '5', '3', '5', '8', '6', '8', '12', '5', '13', '6', '13', '8', '16', '8', '18', '15', '16', '14', '12', '7', '3', '8', '9', '11', '2', '5', '4', '5', '1', '4', '1', '2', '0', '0']\n",
            "['0', '1', '0', '0', '4', '3', '3', '5', '5', '4', '5', '8', '7', '10', '13', '3', '7', '13', '15', '18', '8', '15', '15', '16', '11', '14', '12', '4', '10', '10', '4', '3', '4', '5', '5', '3', '3', '2', '2', '1']\n",
            "['0', '1', '0', '0', '3', '4', '2', '7', '8', '5', '2', '8', '11', '5', '5', '8', '14', '11', '6', '11', '9', '16', '18', '6', '12', '5', '4', '3', '5', '7', '8', '3', '5', '4', '5', '5', '4', '0', '1', '1']\n",
            "['0', '0', '2', '1', '4', '3', '6', '4', '6', '7', '9', '9', '3', '11', '6', '12', '4', '17', '13', '15', '13', '12', '8', '7', '4', '7', '12', '9', '5', '6', '5', '4', '7', '3', '5', '4', '2', '3', '0', '1']\n",
            "['0', '0', '0', '0', '1', '3', '1', '6', '6', '5', '5', '6', '3', '6', '13', '3', '10', '13', '9', '16', '15', '9', '11', '4', '6', '4', '11', '11', '12', '3', '5', '8', '7', '4', '6', '4', '1', '3', '0', '0']\n",
            "['0', '1', '2', '1', '1', '1', '4', '1', '5', '2', '3', '3', '10', '7', '13', '5', '7', '17', '6', '9', '12', '13', '10', '4', '12', '4', '6', '7', '6', '10', '8', '2', '5', '1', '3', '4', '2', '0', '2', '0']\n",
            "['0', '1', '1', '0', '1', '2', '4', '3', '6', '4', '7', '5', '5', '7', '5', '10', '7', '8', '18', '17', '9', '8', '12', '11', '11', '11', '14', '6', '11', '2', '10', '9', '5', '6', '5', '3', '4', '2', '2', '0']\n",
            "['0', '0', '0', '0', '2', '3', '6', '5', '7', '4', '3', '2', '10', '7', '9', '11', '12', '5', '12', '9', '13', '19', '14', '17', '5', '13', '8', '11', '5', '10', '9', '8', '7', '5', '3', '1', '4', '0', '2', '1']\n",
            "['0', '0', '0', '1', '2', '1', '4', '3', '6', '7', '4', '2', '12', '6', '12', '4', '14', '7', '8', '14', '13', '19', '6', '9', '12', '6', '4', '13', '6', '7', '2', '3', '6', '5', '4', '2', '3', '0', '1', '0']\n",
            "['0', '0', '2', '1', '2', '5', '4', '2', '7', '8', '4', '7', '11', '9', '8', '11', '15', '17', '11', '12', '7', '12', '7', '6', '7', '4', '13', '5', '7', '6', '6', '9', '2', '1', '1', '2', '2', '0', '1', '0']\n",
            "['0', '1', '2', '0', '1', '4', '3', '2', '2', '7', '3', '3', '12', '13', '11', '13', '6', '5', '9', '16', '9', '19', '16', '11', '8', '9', '14', '12', '11', '9', '6', '6', '6', '1', '1', '2', '4', '3', '1', '1']\n",
            "['0', '1', '1', '3', '1', '4', '4', '1', '8', '2', '2', '3', '12', '12', '10', '15', '13', '6', '5', '5', '18', '19', '9', '6', '11', '12', '7', '6', '3', '6', '3', '2', '4', '3', '1', '5', '4', '2', '2', '0']\n",
            "['0', '0', '2', '3', '2', '3', '2', '6', '3', '8', '7', '4', '6', '6', '9', '5', '12', '12', '8', '5', '12', '10', '16', '7', '14', '12', '5', '4', '6', '9', '8', '5', '6', '6', '1', '4', '3', '0', '2', '0']\n",
            "['0', '0', '0', '3', '4', '5', '1', '7', '7', '8', '2', '5', '12', '4', '10', '14', '5', '5', '17', '13', '16', '15', '13', '6', '12', '9', '10', '3', '3', '7', '4', '4', '8', '2', '6', '5', '1', '0', '1', '0']\n",
            "['0', '1', '1', '1', '1', '3', '3', '2', '6', '3', '9', '7', '8', '8', '4', '13', '7', '14', '11', '15', '14', '13', '5', '13', '7', '14', '9', '10', '5', '11', '5', '3', '5', '1', '1', '4', '4', '1', '2', '0']\n",
            "['0', '1', '1', '1', '2', '3', '5', '3', '6', '3', '7', '10', '3', '8', '12', '4', '12', '9', '15', '5', '17', '16', '5', '10', '10', '15', '7', '5', '3', '11', '5', '5', '6', '1', '1', '1', '1', '0', '2', '1']\n",
            "['0', '0', '2', '1', '3', '3', '2', '7', '4', '4', '3', '8', '12', '9', '12', '9', '5', '16', '8', '17', '7', '11', '14', '7', '13', '11', '7', '12', '12', '7', '8', '5', '7', '2', '2', '4', '1', '1', '1', '0']\n",
            "['0', '0', '1', '2', '4', '2', '2', '3', '5', '7', '10', '5', '5', '12', '3', '13', '4', '13', '7', '15', '9', '12', '18', '14', '16', '12', '3', '11', '3', '2', '7', '4', '8', '2', '2', '1', '3', '0', '1', '1']\n",
            "['0', '0', '1', '1', '1', '5', '1', '5', '2', '2', '4', '10', '4', '8', '14', '6', '15', '6', '12', '15', '15', '13', '7', '17', '4', '5', '11', '4', '8', '7', '9', '4', '5', '3', '2', '5', '4', '3', '2', '1']\n",
            "['0', '0', '2', '2', '3', '4', '6', '3', '7', '6', '4', '5', '8', '4', '7', '7', '6', '11', '12', '19', '20', '18', '9', '5', '4', '7', '14', '8', '4', '3', '7', '7', '8', '3', '5', '4', '1', '3', '1', '0']\n",
            "['0', '0', '0', '1', '4', '4', '6', '3', '8', '6', '4', '10', '12', '3', '3', '6', '8', '7', '17', '16', '14', '15', '17', '4', '14', '13', '4', '4', '12', '11', '6', '9', '5', '5', '2', '5', '2', '1', '0', '1']\n",
            "['0', '1', '1', '0', '3', '2', '4', '6', '8', '6', '2', '3', '11', '3', '14', '14', '12', '8', '8', '16', '13', '7', '6', '9', '15', '7', '6', '4', '10', '8', '10', '4', '2', '6', '5', '5', '2', '3', '2', '1']\n",
            "['0', '0', '2', '3', '3', '4', '5', '3', '6', '7', '10', '5', '10', '13', '14', '3', '8', '10', '9', '9', '19', '15', '15', '6', '8', '8', '11', '5', '5', '7', '3', '6', '6', '4', '5', '2', '2', '3', '0', '0']\n",
            "['0', '1', '2', '2', '2', '3', '6', '6', '6', '7', '6', '3', '11', '12', '13', '15', '15', '10', '14', '11', '11', '8', '6', '12', '10', '5', '12', '7', '7', '11', '5', '8', '5', '2', '5', '5', '2', '0', '2', '1']\n",
            "['0', '0', '2', '1', '3', '5', '6', '7', '5', '8', '9', '3', '12', '10', '12', '4', '12', '9', '13', '10', '10', '6', '10', '11', '4', '15', '13', '7', '3', '4', '2', '9', '7', '2', '4', '2', '1', '2', '1', '1']\n",
            "['0', '0', '1', '2', '4', '1', '5', '5', '2', '3', '4', '8', '8', '12', '5', '15', '9', '17', '7', '19', '14', '18', '12', '17', '14', '4', '13', '13', '8', '11', '5', '6', '6', '2', '3', '5', '2', '1', '1', '1']\n",
            "['0', '0', '0', '3', '1', '3', '6', '4', '3', '4', '8', '3', '4', '8', '3', '11', '5', '7', '10', '5', '15', '9', '16', '17', '16', '3', '8', '9', '8', '3', '3', '9', '5', '1', '6', '5', '4', '2', '2', '0']\n",
            "['0', '1', '2', '2', '2', '5', '5', '1', '4', '6', '3', '6', '5', '9', '6', '7', '4', '7', '16', '7', '16', '13', '9', '16', '12', '6', '7', '9', '10', '3', '6', '4', '5', '4', '6', '3', '4', '3', '2', '1']\n",
            "['0', '1', '1', '2', '3', '1', '5', '1', '2', '2', '5', '7', '6', '6', '5', '10', '6', '7', '17', '13', '15', '16', '17', '14', '4', '4', '10', '10', '10', '11', '9', '9', '5', '4', '4', '2', '1', '0', '1', '0']\n",
            "['0', '1', '0', '3', '2', '4', '1', '1', '5', '9', '10', '7', '12', '10', '9', '15', '12', '13', '13', '6', '19', '9', '10', '6', '13', '5', '13', '6', '7', '2', '5', '5', '2', '1', '1', '1', '1', '3', '0', '1']\n",
            "['0', '1', '1', '3', '1', '1', '5', '5', '3', '7', '2', '2', '3', '12', '4', '6', '8', '15', '16', '16', '15', '4', '14', '5', '13', '10', '7', '10', '6', '3', '2', '3', '6', '3', '3', '5', '4', '3', '2', '1']\n",
            "['0', '0', '0', '2', '2', '1', '3', '4', '5', '5', '6', '5', '5', '12', '13', '5', '7', '5', '11', '15', '18', '7', '9', '10', '14', '12', '11', '9', '10', '3', '2', '9', '6', '2', '2', '5', '3', '0', '0', '1']\n",
            "['0', '0', '1', '3', '3', '1', '2', '1', '8', '9', '2', '8', '10', '3', '8', '6', '10', '13', '11', '17', '19', '6', '4', '11', '6', '12', '7', '5', '5', '4', '4', '8', '2', '6', '6', '4', '2', '2', '0', '0']\n",
            "['0', '1', '1', '3', '4', '5', '2', '1', '3', '7', '9', '6', '10', '5', '8', '15', '11', '12', '15', '6', '12', '16', '6', '4', '14', '3', '12', '9', '6', '11', '5', '8', '5', '5', '6', '1', '2', '1', '2', '0']\n",
            "['0', '0', '1', '3', '1', '4', '3', '6', '7', '8', '5', '7', '11', '3', '6', '11', '6', '10', '6', '19', '18', '14', '6', '10', '7', '9', '8', '5', '8', '3', '10', '2', '5', '1', '5', '4', '2', '1', '0', '1']\n",
            "['0', '1', '1', '3', '3', '4', '4', '6', '3', '4', '9', '9', '7', '6', '8', '15', '12', '15', '6', '11', '6', '18', '5', '14', '15', '12', '9', '8', '3', '6', '10', '6', '8', '7', '2', '5', '4', '3', '1', '1']\n",
            "['0', '1', '2', '2', '4', '3', '1', '4', '8', '9', '5', '10', '10', '3', '4', '6', '7', '11', '16', '6', '14', '9', '11', '10', '10', '7', '10', '8', '8', '4', '5', '8', '4', '4', '5', '2', '4', '1', '1', '0']\n",
            "['0', '0', '2', '3', '4', '5', '4', '6', '2', '9', '7', '4', '9', '10', '8', '11', '16', '12', '15', '17', '19', '10', '18', '13', '15', '11', '8', '4', '7', '11', '6', '7', '6', '5', '1', '3', '1', '0', '0', '0']\n",
            "['0', '1', '1', '3', '1', '4', '6', '2', '8', '2', '10', '3', '11', '9', '13', '15', '5', '15', '6', '10', '10', '5', '14', '15', '12', '7', '4', '5', '11', '4', '6', '9', '5', '6', '1', '1', '2', '1', '2', '1']\n",
            "['0', '0', '1', '3', '2', '5', '1', '2', '7', '6', '6', '3', '12', '9', '4', '14', '4', '6', '12', '9', '12', '7', '11', '7', '16', '8', '13', '6', '7', '6', '10', '7', '6', '3', '1', '5', '4', '3', '0', '0']\n",
            "['0', '0', '1', '2', '3', '4', '5', '7', '5', '4', '10', '5', '12', '12', '5', '4', '7', '9', '18', '16', '16', '10', '15', '15', '10', '4', '3', '7', '5', '9', '4', '6', '2', '4', '1', '4', '2', '2', '2', '1']\n",
            "['0', '1', '2', '1', '1', '3', '5', '3', '6', '3', '10', '10', '11', '10', '13', '10', '13', '6', '6', '14', '5', '4', '5', '5', '9', '4', '12', '7', '7', '4', '7', '9', '3', '3', '6', '3', '4', '1', '2', '0']\n",
            "['0', '1', '2', '2', '3', '5', '2', '4', '5', '6', '8', '3', '5', '4', '3', '15', '15', '12', '16', '7', '20', '15', '12', '8', '9', '6', '12', '5', '8', '3', '8', '5', '4', '1', '3', '2', '1', '3', '1', '0']\n",
            "['0', '0', '0', '2', '4', '4', '5', '3', '3', '3', '10', '4', '4', '4', '14', '11', '15', '13', '10', '14', '11', '17', '9', '11', '11', '7', '10', '12', '10', '10', '10', '8', '7', '5', '2', '2', '4', '1', '2', '1']\n",
            "['0', '0', '2', '1', '1', '4', '4', '7', '2', '9', '4', '10', '12', '7', '6', '6', '11', '12', '9', '15', '15', '6', '6', '13', '5', '12', '9', '6', '4', '7', '7', '6', '5', '4', '1', '4', '2', '2', '2', '1']\n",
            "['0', '1', '2', '1', '1', '4', '5', '4', '4', '5', '9', '7', '10', '3', '13', '13', '8', '9', '17', '16', '16', '15', '12', '13', '5', '12', '10', '9', '11', '9', '4', '5', '5', '2', '2', '5', '1', '0', '0', '1']\n",
            "['0', '0', '1', '3', '2', '3', '6', '4', '5', '7', '2', '4', '11', '11', '3', '8', '8', '16', '5', '13', '16', '5', '8', '8', '6', '9', '10', '10', '9', '3', '3', '5', '3', '5', '4', '5', '3', '3', '0', '1']\n",
            "['0', '1', '1', '2', '2', '5', '1', '7', '4', '2', '5', '5', '4', '6', '6', '4', '16', '11', '14', '16', '14', '14', '8', '17', '4', '14', '13', '7', '6', '3', '7', '7', '5', '6', '3', '4', '2', '2', '1', '1']\n",
            "['0', '1', '1', '1', '4', '1', '6', '4', '6', '3', '6', '5', '6', '4', '14', '13', '13', '9', '12', '19', '9', '10', '15', '10', '9', '10', '10', '7', '5', '6', '8', '6', '6', '4', '3', '5', '2', '1', '1', '1']\n",
            "['0', '0', '0', '1', '4', '5', '6', '3', '8', '7', '9', '10', '8', '6', '5', '12', '15', '5', '10', '5', '8', '13', '18', '17', '14', '9', '13', '4', '10', '11', '10', '8', '8', '6', '5', '5', '2', '0', '2', '0']\n",
            "['0', '0', '1', '0', '3', '2', '5', '4', '8', '2', '9', '3', '3', '10', '12', '9', '14', '11', '13', '8', '6', '18', '11', '9', '13', '11', '8', '5', '5', '2', '8', '5', '3', '5', '4', '1', '3', '1', '1', '0']\n"
          ],
          "name": "stdout"
        }
      ]
    },
    {
      "cell_type": "code",
      "metadata": {
        "id": "o5Q_Cgcejs1e",
        "colab_type": "code",
        "colab": {
          "base_uri": "https://localhost:8080/",
          "height": 1000
        },
        "outputId": "c55d3314-b199-4589-8595-aaf443ad6663"
      },
      "source": [
        "import csv\n",
        "with open('inflammation-01.csv', 'r') as data_file:\n",
        "  csv_reader = csv.reader(data_file)\n",
        "  for line in csv_reader:\n",
        "    print(line)"
      ],
      "execution_count": 21,
      "outputs": [
        {
          "output_type": "stream",
          "text": [
            "['0', '0', '1', '3', '1', '2', '4', '7', '8', '3', '3', '3', '10', '5', '7', '4', '7', '7', '12', '18', '6', '13', '11', '11', '7', '7', '4', '6', '8', '8', '4', '4', '5', '7', '3', '4', '2', '3', '0', '0']\n",
            "['0', '1', '2', '1', '2', '1', '3', '2', '2', '6', '10', '11', '5', '9', '4', '4', '7', '16', '8', '6', '18', '4', '12', '5', '12', '7', '11', '5', '11', '3', '3', '5', '4', '4', '5', '5', '1', '1', '0', '1']\n",
            "['0', '1', '1', '3', '3', '2', '6', '2', '5', '9', '5', '7', '4', '5', '4', '15', '5', '11', '9', '10', '19', '14', '12', '17', '7', '12', '11', '7', '4', '2', '10', '5', '4', '2', '2', '3', '2', '2', '1', '1']\n",
            "['0', '0', '2', '0', '4', '2', '2', '1', '6', '7', '10', '7', '9', '13', '8', '8', '15', '10', '10', '7', '17', '4', '4', '7', '6', '15', '6', '4', '9', '11', '3', '5', '6', '3', '3', '4', '2', '3', '2', '1']\n",
            "['0', '1', '1', '3', '3', '1', '3', '5', '2', '4', '4', '7', '6', '5', '3', '10', '8', '10', '6', '17', '9', '14', '9', '7', '13', '9', '12', '6', '7', '7', '9', '6', '3', '2', '2', '4', '2', '0', '1', '1']\n",
            "['0', '0', '1', '2', '2', '4', '2', '1', '6', '4', '7', '6', '6', '9', '9', '15', '4', '16', '18', '12', '12', '5', '18', '9', '5', '3', '10', '3', '12', '7', '8', '4', '7', '3', '5', '4', '4', '3', '2', '1']\n",
            "['0', '0', '2', '2', '4', '2', '2', '5', '5', '8', '6', '5', '11', '9', '4', '13', '5', '12', '10', '6', '9', '17', '15', '8', '9', '3', '13', '7', '8', '2', '8', '8', '4', '2', '3', '5', '4', '1', '1', '1']\n",
            "['0', '0', '1', '2', '3', '1', '2', '3', '5', '3', '7', '8', '8', '5', '10', '9', '15', '11', '18', '19', '20', '8', '5', '13', '15', '10', '6', '10', '6', '7', '4', '9', '3', '5', '2', '5', '3', '2', '2', '1']\n",
            "['0', '0', '0', '3', '1', '5', '6', '5', '5', '8', '2', '4', '11', '12', '10', '11', '9', '10', '17', '11', '6', '16', '12', '6', '8', '14', '6', '13', '10', '11', '4', '6', '4', '7', '6', '3', '2', '1', '0', '0']\n",
            "['0', '1', '1', '2', '1', '3', '5', '3', '5', '8', '6', '8', '12', '5', '13', '6', '13', '8', '16', '8', '18', '15', '16', '14', '12', '7', '3', '8', '9', '11', '2', '5', '4', '5', '1', '4', '1', '2', '0', '0']\n",
            "['0', '1', '0', '0', '4', '3', '3', '5', '5', '4', '5', '8', '7', '10', '13', '3', '7', '13', '15', '18', '8', '15', '15', '16', '11', '14', '12', '4', '10', '10', '4', '3', '4', '5', '5', '3', '3', '2', '2', '1']\n",
            "['0', '1', '0', '0', '3', '4', '2', '7', '8', '5', '2', '8', '11', '5', '5', '8', '14', '11', '6', '11', '9', '16', '18', '6', '12', '5', '4', '3', '5', '7', '8', '3', '5', '4', '5', '5', '4', '0', '1', '1']\n",
            "['0', '0', '2', '1', '4', '3', '6', '4', '6', '7', '9', '9', '3', '11', '6', '12', '4', '17', '13', '15', '13', '12', '8', '7', '4', '7', '12', '9', '5', '6', '5', '4', '7', '3', '5', '4', '2', '3', '0', '1']\n",
            "['0', '0', '0', '0', '1', '3', '1', '6', '6', '5', '5', '6', '3', '6', '13', '3', '10', '13', '9', '16', '15', '9', '11', '4', '6', '4', '11', '11', '12', '3', '5', '8', '7', '4', '6', '4', '1', '3', '0', '0']\n",
            "['0', '1', '2', '1', '1', '1', '4', '1', '5', '2', '3', '3', '10', '7', '13', '5', '7', '17', '6', '9', '12', '13', '10', '4', '12', '4', '6', '7', '6', '10', '8', '2', '5', '1', '3', '4', '2', '0', '2', '0']\n",
            "['0', '1', '1', '0', '1', '2', '4', '3', '6', '4', '7', '5', '5', '7', '5', '10', '7', '8', '18', '17', '9', '8', '12', '11', '11', '11', '14', '6', '11', '2', '10', '9', '5', '6', '5', '3', '4', '2', '2', '0']\n",
            "['0', '0', '0', '0', '2', '3', '6', '5', '7', '4', '3', '2', '10', '7', '9', '11', '12', '5', '12', '9', '13', '19', '14', '17', '5', '13', '8', '11', '5', '10', '9', '8', '7', '5', '3', '1', '4', '0', '2', '1']\n",
            "['0', '0', '0', '1', '2', '1', '4', '3', '6', '7', '4', '2', '12', '6', '12', '4', '14', '7', '8', '14', '13', '19', '6', '9', '12', '6', '4', '13', '6', '7', '2', '3', '6', '5', '4', '2', '3', '0', '1', '0']\n",
            "['0', '0', '2', '1', '2', '5', '4', '2', '7', '8', '4', '7', '11', '9', '8', '11', '15', '17', '11', '12', '7', '12', '7', '6', '7', '4', '13', '5', '7', '6', '6', '9', '2', '1', '1', '2', '2', '0', '1', '0']\n",
            "['0', '1', '2', '0', '1', '4', '3', '2', '2', '7', '3', '3', '12', '13', '11', '13', '6', '5', '9', '16', '9', '19', '16', '11', '8', '9', '14', '12', '11', '9', '6', '6', '6', '1', '1', '2', '4', '3', '1', '1']\n",
            "['0', '1', '1', '3', '1', '4', '4', '1', '8', '2', '2', '3', '12', '12', '10', '15', '13', '6', '5', '5', '18', '19', '9', '6', '11', '12', '7', '6', '3', '6', '3', '2', '4', '3', '1', '5', '4', '2', '2', '0']\n",
            "['0', '0', '2', '3', '2', '3', '2', '6', '3', '8', '7', '4', '6', '6', '9', '5', '12', '12', '8', '5', '12', '10', '16', '7', '14', '12', '5', '4', '6', '9', '8', '5', '6', '6', '1', '4', '3', '0', '2', '0']\n",
            "['0', '0', '0', '3', '4', '5', '1', '7', '7', '8', '2', '5', '12', '4', '10', '14', '5', '5', '17', '13', '16', '15', '13', '6', '12', '9', '10', '3', '3', '7', '4', '4', '8', '2', '6', '5', '1', '0', '1', '0']\n",
            "['0', '1', '1', '1', '1', '3', '3', '2', '6', '3', '9', '7', '8', '8', '4', '13', '7', '14', '11', '15', '14', '13', '5', '13', '7', '14', '9', '10', '5', '11', '5', '3', '5', '1', '1', '4', '4', '1', '2', '0']\n",
            "['0', '1', '1', '1', '2', '3', '5', '3', '6', '3', '7', '10', '3', '8', '12', '4', '12', '9', '15', '5', '17', '16', '5', '10', '10', '15', '7', '5', '3', '11', '5', '5', '6', '1', '1', '1', '1', '0', '2', '1']\n",
            "['0', '0', '2', '1', '3', '3', '2', '7', '4', '4', '3', '8', '12', '9', '12', '9', '5', '16', '8', '17', '7', '11', '14', '7', '13', '11', '7', '12', '12', '7', '8', '5', '7', '2', '2', '4', '1', '1', '1', '0']\n",
            "['0', '0', '1', '2', '4', '2', '2', '3', '5', '7', '10', '5', '5', '12', '3', '13', '4', '13', '7', '15', '9', '12', '18', '14', '16', '12', '3', '11', '3', '2', '7', '4', '8', '2', '2', '1', '3', '0', '1', '1']\n",
            "['0', '0', '1', '1', '1', '5', '1', '5', '2', '2', '4', '10', '4', '8', '14', '6', '15', '6', '12', '15', '15', '13', '7', '17', '4', '5', '11', '4', '8', '7', '9', '4', '5', '3', '2', '5', '4', '3', '2', '1']\n",
            "['0', '0', '2', '2', '3', '4', '6', '3', '7', '6', '4', '5', '8', '4', '7', '7', '6', '11', '12', '19', '20', '18', '9', '5', '4', '7', '14', '8', '4', '3', '7', '7', '8', '3', '5', '4', '1', '3', '1', '0']\n",
            "['0', '0', '0', '1', '4', '4', '6', '3', '8', '6', '4', '10', '12', '3', '3', '6', '8', '7', '17', '16', '14', '15', '17', '4', '14', '13', '4', '4', '12', '11', '6', '9', '5', '5', '2', '5', '2', '1', '0', '1']\n",
            "['0', '1', '1', '0', '3', '2', '4', '6', '8', '6', '2', '3', '11', '3', '14', '14', '12', '8', '8', '16', '13', '7', '6', '9', '15', '7', '6', '4', '10', '8', '10', '4', '2', '6', '5', '5', '2', '3', '2', '1']\n",
            "['0', '0', '2', '3', '3', '4', '5', '3', '6', '7', '10', '5', '10', '13', '14', '3', '8', '10', '9', '9', '19', '15', '15', '6', '8', '8', '11', '5', '5', '7', '3', '6', '6', '4', '5', '2', '2', '3', '0', '0']\n",
            "['0', '1', '2', '2', '2', '3', '6', '6', '6', '7', '6', '3', '11', '12', '13', '15', '15', '10', '14', '11', '11', '8', '6', '12', '10', '5', '12', '7', '7', '11', '5', '8', '5', '2', '5', '5', '2', '0', '2', '1']\n",
            "['0', '0', '2', '1', '3', '5', '6', '7', '5', '8', '9', '3', '12', '10', '12', '4', '12', '9', '13', '10', '10', '6', '10', '11', '4', '15', '13', '7', '3', '4', '2', '9', '7', '2', '4', '2', '1', '2', '1', '1']\n",
            "['0', '0', '1', '2', '4', '1', '5', '5', '2', '3', '4', '8', '8', '12', '5', '15', '9', '17', '7', '19', '14', '18', '12', '17', '14', '4', '13', '13', '8', '11', '5', '6', '6', '2', '3', '5', '2', '1', '1', '1']\n",
            "['0', '0', '0', '3', '1', '3', '6', '4', '3', '4', '8', '3', '4', '8', '3', '11', '5', '7', '10', '5', '15', '9', '16', '17', '16', '3', '8', '9', '8', '3', '3', '9', '5', '1', '6', '5', '4', '2', '2', '0']\n",
            "['0', '1', '2', '2', '2', '5', '5', '1', '4', '6', '3', '6', '5', '9', '6', '7', '4', '7', '16', '7', '16', '13', '9', '16', '12', '6', '7', '9', '10', '3', '6', '4', '5', '4', '6', '3', '4', '3', '2', '1']\n",
            "['0', '1', '1', '2', '3', '1', '5', '1', '2', '2', '5', '7', '6', '6', '5', '10', '6', '7', '17', '13', '15', '16', '17', '14', '4', '4', '10', '10', '10', '11', '9', '9', '5', '4', '4', '2', '1', '0', '1', '0']\n",
            "['0', '1', '0', '3', '2', '4', '1', '1', '5', '9', '10', '7', '12', '10', '9', '15', '12', '13', '13', '6', '19', '9', '10', '6', '13', '5', '13', '6', '7', '2', '5', '5', '2', '1', '1', '1', '1', '3', '0', '1']\n",
            "['0', '1', '1', '3', '1', '1', '5', '5', '3', '7', '2', '2', '3', '12', '4', '6', '8', '15', '16', '16', '15', '4', '14', '5', '13', '10', '7', '10', '6', '3', '2', '3', '6', '3', '3', '5', '4', '3', '2', '1']\n",
            "['0', '0', '0', '2', '2', '1', '3', '4', '5', '5', '6', '5', '5', '12', '13', '5', '7', '5', '11', '15', '18', '7', '9', '10', '14', '12', '11', '9', '10', '3', '2', '9', '6', '2', '2', '5', '3', '0', '0', '1']\n",
            "['0', '0', '1', '3', '3', '1', '2', '1', '8', '9', '2', '8', '10', '3', '8', '6', '10', '13', '11', '17', '19', '6', '4', '11', '6', '12', '7', '5', '5', '4', '4', '8', '2', '6', '6', '4', '2', '2', '0', '0']\n",
            "['0', '1', '1', '3', '4', '5', '2', '1', '3', '7', '9', '6', '10', '5', '8', '15', '11', '12', '15', '6', '12', '16', '6', '4', '14', '3', '12', '9', '6', '11', '5', '8', '5', '5', '6', '1', '2', '1', '2', '0']\n",
            "['0', '0', '1', '3', '1', '4', '3', '6', '7', '8', '5', '7', '11', '3', '6', '11', '6', '10', '6', '19', '18', '14', '6', '10', '7', '9', '8', '5', '8', '3', '10', '2', '5', '1', '5', '4', '2', '1', '0', '1']\n",
            "['0', '1', '1', '3', '3', '4', '4', '6', '3', '4', '9', '9', '7', '6', '8', '15', '12', '15', '6', '11', '6', '18', '5', '14', '15', '12', '9', '8', '3', '6', '10', '6', '8', '7', '2', '5', '4', '3', '1', '1']\n",
            "['0', '1', '2', '2', '4', '3', '1', '4', '8', '9', '5', '10', '10', '3', '4', '6', '7', '11', '16', '6', '14', '9', '11', '10', '10', '7', '10', '8', '8', '4', '5', '8', '4', '4', '5', '2', '4', '1', '1', '0']\n",
            "['0', '0', '2', '3', '4', '5', '4', '6', '2', '9', '7', '4', '9', '10', '8', '11', '16', '12', '15', '17', '19', '10', '18', '13', '15', '11', '8', '4', '7', '11', '6', '7', '6', '5', '1', '3', '1', '0', '0', '0']\n",
            "['0', '1', '1', '3', '1', '4', '6', '2', '8', '2', '10', '3', '11', '9', '13', '15', '5', '15', '6', '10', '10', '5', '14', '15', '12', '7', '4', '5', '11', '4', '6', '9', '5', '6', '1', '1', '2', '1', '2', '1']\n",
            "['0', '0', '1', '3', '2', '5', '1', '2', '7', '6', '6', '3', '12', '9', '4', '14', '4', '6', '12', '9', '12', '7', '11', '7', '16', '8', '13', '6', '7', '6', '10', '7', '6', '3', '1', '5', '4', '3', '0', '0']\n",
            "['0', '0', '1', '2', '3', '4', '5', '7', '5', '4', '10', '5', '12', '12', '5', '4', '7', '9', '18', '16', '16', '10', '15', '15', '10', '4', '3', '7', '5', '9', '4', '6', '2', '4', '1', '4', '2', '2', '2', '1']\n",
            "['0', '1', '2', '1', '1', '3', '5', '3', '6', '3', '10', '10', '11', '10', '13', '10', '13', '6', '6', '14', '5', '4', '5', '5', '9', '4', '12', '7', '7', '4', '7', '9', '3', '3', '6', '3', '4', '1', '2', '0']\n",
            "['0', '1', '2', '2', '3', '5', '2', '4', '5', '6', '8', '3', '5', '4', '3', '15', '15', '12', '16', '7', '20', '15', '12', '8', '9', '6', '12', '5', '8', '3', '8', '5', '4', '1', '3', '2', '1', '3', '1', '0']\n",
            "['0', '0', '0', '2', '4', '4', '5', '3', '3', '3', '10', '4', '4', '4', '14', '11', '15', '13', '10', '14', '11', '17', '9', '11', '11', '7', '10', '12', '10', '10', '10', '8', '7', '5', '2', '2', '4', '1', '2', '1']\n",
            "['0', '0', '2', '1', '1', '4', '4', '7', '2', '9', '4', '10', '12', '7', '6', '6', '11', '12', '9', '15', '15', '6', '6', '13', '5', '12', '9', '6', '4', '7', '7', '6', '5', '4', '1', '4', '2', '2', '2', '1']\n",
            "['0', '1', '2', '1', '1', '4', '5', '4', '4', '5', '9', '7', '10', '3', '13', '13', '8', '9', '17', '16', '16', '15', '12', '13', '5', '12', '10', '9', '11', '9', '4', '5', '5', '2', '2', '5', '1', '0', '0', '1']\n",
            "['0', '0', '1', '3', '2', '3', '6', '4', '5', '7', '2', '4', '11', '11', '3', '8', '8', '16', '5', '13', '16', '5', '8', '8', '6', '9', '10', '10', '9', '3', '3', '5', '3', '5', '4', '5', '3', '3', '0', '1']\n",
            "['0', '1', '1', '2', '2', '5', '1', '7', '4', '2', '5', '5', '4', '6', '6', '4', '16', '11', '14', '16', '14', '14', '8', '17', '4', '14', '13', '7', '6', '3', '7', '7', '5', '6', '3', '4', '2', '2', '1', '1']\n",
            "['0', '1', '1', '1', '4', '1', '6', '4', '6', '3', '6', '5', '6', '4', '14', '13', '13', '9', '12', '19', '9', '10', '15', '10', '9', '10', '10', '7', '5', '6', '8', '6', '6', '4', '3', '5', '2', '1', '1', '1']\n",
            "['0', '0', '0', '1', '4', '5', '6', '3', '8', '7', '9', '10', '8', '6', '5', '12', '15', '5', '10', '5', '8', '13', '18', '17', '14', '9', '13', '4', '10', '11', '10', '8', '8', '6', '5', '5', '2', '0', '2', '0']\n",
            "['0', '0', '1', '0', '3', '2', '5', '4', '8', '2', '9', '3', '3', '10', '12', '9', '14', '11', '13', '8', '6', '18', '11', '9', '13', '11', '8', '5', '5', '2', '8', '5', '3', '5', '4', '1', '3', '1', '1', '0']\n"
          ],
          "name": "stdout"
        }
      ]
    },
    {
      "cell_type": "code",
      "metadata": {
        "id": "oK_spKAekTPY",
        "colab_type": "code",
        "colab": {}
      },
      "source": [
        "import numpy as np\n",
        "data = np.loadtxt(fname ='inflammation-01.csv', delimiter=',')"
      ],
      "execution_count": 22,
      "outputs": []
    },
    {
      "cell_type": "code",
      "metadata": {
        "id": "zbbkaH7FlFxL",
        "colab_type": "code",
        "colab": {
          "base_uri": "https://localhost:8080/",
          "height": 268
        },
        "outputId": "2ee540e2-92dd-4a52-9bce-514dbc373e8f"
      },
      "source": [
        "import matplotlib.pyplot as plt\n",
        "image = plt.imshow(data)\n",
        "plt.show()"
      ],
      "execution_count": 23,
      "outputs": [
        {
          "output_type": "display_data",
          "data": {
            "image/png": "[encoded data removed]",
            "text/plain": [
              "<Figure size 432x288 with 1 Axes>"
            ]
          },
          "metadata": {
            "tags": [],
            "needs_background": "light"
          }
        }
      ]
    },
    {
      "cell_type": "code",
      "metadata": {
        "id": "J1xm3S_rlUfX",
        "colab_type": "code",
        "colab": {}
      },
      "source": [
        ""
      ],
      "execution_count": null,
      "outputs": []
    }
  ]
}