{
  "nbformat": 4,
  "nbformat_minor": 0,
  "metadata": {
    "colab": {
      "name": "repeating actions with loop.ipynb",
      "provenance": [],
      "authorship_tag": "ABX9TyNazRRQA6GJ+q6/DaOJjOui",
      "include_colab_link": true
    },
    "kernelspec": {
      "name": "python3",
      "display_name": "Python 3"
    }
  },
  "cells": [
    {
      "cell_type": "markdown",
      "metadata": {
        "id": "view-in-github",
        "colab_type": "text"
      },
      "source": [
        "<a href=\"https://colab.research.google.com/github/KoushaniBiswas/Incarnation-/blob/master/repeating_actions_with_loop.ipynb\" target=\"_parent\"><img src=\"https://colab.research.google.com/assets/colab-badge.svg\" alt=\"Open In Colab\"/></a>"
      ]
    },
    {
      "cell_type": "code",
      "metadata": {
        "id": "C_IaJZRM_8aN",
        "colab_type": "code",
        "colab": {}
      },
      "source": [
        "#a string is an ordered collection of characters and every character has a unique number associated with it -its index\n",
        "#accessing characters in a string using their indices   \n"
      ],
      "execution_count": null,
      "outputs": []
    },
    {
      "cell_type": "code",
      "metadata": {
        "id": "3t0x1R8pBOC9",
        "colab_type": "code",
        "colab": {}
      },
      "source": [
        "#eg: we can get the first character of the wordlead by using word[0]"
      ],
      "execution_count": null,
      "outputs": []
    },
    {
      "cell_type": "code",
      "metadata": {
        "id": "1sYAbuh2BZwZ",
        "colab_type": "code",
        "colab": {}
      },
      "source": [
        "word = 'lead'"
      ],
      "execution_count": 1,
      "outputs": []
    },
    {
      "cell_type": "code",
      "metadata": {
        "id": "tqv8KTGMBczR",
        "colab_type": "code",
        "colab": {
          "base_uri": "https://localhost:8080/",
          "height": 92
        },
        "outputId": "86b4c112-471f-424a-d405-b06a08e8820c"
      },
      "source": [
        "print(word[0])\n",
        "print(word[1])\n",
        "print(word[2])\n",
        "print(word[3])"
      ],
      "execution_count": 2,
      "outputs": [
        {
          "output_type": "stream",
          "text": [
            "l\n",
            "e\n",
            "a\n",
            "d\n"
          ],
          "name": "stdout"
        }
      ]
    },
    {
      "cell_type": "code",
      "metadata": {
        "id": "ek5xQQQ5Bq5t",
        "colab_type": "code",
        "colab": {}
      },
      "source": [
        "#this is a bad approcah because its not scalable, difficult to maintain, fragile"
      ],
      "execution_count": 3,
      "outputs": []
    },
    {
      "cell_type": "code",
      "metadata": {
        "id": "LAsYkFwAB6Sw",
        "colab_type": "code",
        "colab": {
          "base_uri": "https://localhost:8080/",
          "height": 92
        },
        "outputId": "4459c10c-ac5e-40ce-c046-f8abaf88947a"
      },
      "source": [
        "word = 'lead'\n",
        "for char in word:\n",
        "  print(char)\n",
        "#for every character in the word we are printing one character using for loop"
      ],
      "execution_count": 4,
      "outputs": [
        {
          "output_type": "stream",
          "text": [
            "l\n",
            "e\n",
            "a\n",
            "d\n"
          ],
          "name": "stdout"
        }
      ]
    },
    {
      "cell_type": "code",
      "metadata": {
        "id": "w8uCWN_KCM3r",
        "colab_type": "code",
        "colab": {
          "base_uri": "https://localhost:8080/",
          "height": 167
        },
        "outputId": "82f4ece9-3342-4de1-9f7c-0b52c48d9ff1"
      },
      "source": [
        "word = 'Koushani'\n",
        "for char in word:\n",
        "  print(char)"
      ],
      "execution_count": 6,
      "outputs": [
        {
          "output_type": "stream",
          "text": [
            "K\n",
            "o\n",
            "u\n",
            "s\n",
            "h\n",
            "a\n",
            "n\n",
            "i\n"
          ],
          "name": "stdout"
        }
      ]
    },
    {
      "cell_type": "code",
      "metadata": {
        "id": "HoUYcLmOCYRo",
        "colab_type": "code",
        "colab": {}
      },
      "source": [
        "#the above version uses a loop to repeat the operation"
      ],
      "execution_count": 7,
      "outputs": []
    },
    {
      "cell_type": "code",
      "metadata": {
        "id": "9fWbxW6qCjFg",
        "colab_type": "code",
        "colab": {}
      },
      "source": [
        "#where each character (char) in the variable word is looped through and printed one character after another."
      ],
      "execution_count": 8,
      "outputs": []
    },
    {
      "cell_type": "code",
      "metadata": {
        "id": "Q3BnXYQ-Cyxz",
        "colab_type": "code",
        "colab": {
          "base_uri": "https://localhost:8080/",
          "height": 36
        },
        "outputId": "3283b9d3-bca3-4e7b-8bc0-c47d23d4888e"
      },
      "source": [
        "length = 0\n",
        "for vowel in 'aeiou':\n",
        "  length = length + 1\n",
        "print('There are', length, 'vowels')"
      ],
      "execution_count": 9,
      "outputs": [
        {
          "output_type": "stream",
          "text": [
            "There are 5 vowels\n"
          ],
          "name": "stdout"
        }
      ]
    },
    {
      "cell_type": "code",
      "metadata": {
        "id": "a7-1bfgRDIRK",
        "colab_type": "code",
        "colab": {}
      },
      "source": [
        "#there are five characters\n",
        "#for every character line three would be executed five times\n",
        "#first line - the value assigned is 0 so length is 0\n",
        "#the statement adds 1 to the old value of length and updates length to refer to the new value"
      ],
      "execution_count": 10,
      "outputs": []
    },
    {
      "cell_type": "code",
      "metadata": {
        "id": "3dMGJJfKEDcJ",
        "colab_type": "code",
        "colab": {
          "base_uri": "https://localhost:8080/",
          "height": 92
        },
        "outputId": "78b8d55d-8d2e-46e7-86d3-aae90f780bfc"
      },
      "source": [
        "letter = 'x'\n",
        "for letter in 'abc':\n",
        "  print(letter)\n",
        "print('after the loop, letter is', letter)"
      ],
      "execution_count": 11,
      "outputs": [
        {
          "output_type": "stream",
          "text": [
            "a\n",
            "b\n",
            "c\n",
            "after the loop, letter is c\n"
          ],
          "name": "stdout"
        }
      ]
    },
    {
      "cell_type": "code",
      "metadata": {
        "id": "lEGnO6sQEosR",
        "colab_type": "code",
        "colab": {
          "base_uri": "https://localhost:8080/",
          "height": 36
        },
        "outputId": "948f52bf-678f-4390-e4c7-dc23d55bb87a"
      },
      "source": [
        "#there's a length function which determines the length and easier to read than a two line loop\n",
        "\n",
        "print(len('aeiou'))"
      ],
      "execution_count": 12,
      "outputs": [
        {
          "output_type": "stream",
          "text": [
            "5\n"
          ],
          "name": "stdout"
        }
      ]
    },
    {
      "cell_type": "code",
      "metadata": {
        "id": "DHYjwjKXE_Rc",
        "colab_type": "code",
        "colab": {
          "base_uri": "https://localhost:8080/",
          "height": 36
        },
        "outputId": "4899707a-77f8-4798-d32f-6fd2b85da8fa"
      },
      "source": [
        "range(4)"
      ],
      "execution_count": 13,
      "outputs": [
        {
          "output_type": "execute_result",
          "data": {
            "text/plain": [
              "range(0, 4)"
            ]
          },
          "metadata": {
            "tags": []
          },
          "execution_count": 13
        }
      ]
    },
    {
      "cell_type": "code",
      "metadata": {
        "id": "sllBx37rE4oh",
        "colab_type": "code",
        "colab": {
          "base_uri": "https://localhost:8080/",
          "height": 36
        },
        "outputId": "90637cba-0d75-4b6b-e3cb-eb8d9a58d678"
      },
      "source": [
        "range(2, 4, 1)"
      ],
      "execution_count": 14,
      "outputs": [
        {
          "output_type": "execute_result",
          "data": {
            "text/plain": [
              "range(2, 4)"
            ]
          },
          "metadata": {
            "tags": []
          },
          "execution_count": 14
        }
      ]
    },
    {
      "cell_type": "code",
      "metadata": {
        "id": "RP9jxlBkFNSh",
        "colab_type": "code",
        "colab": {
          "base_uri": "https://localhost:8080/",
          "height": 36
        },
        "outputId": "8ecb388d-1eeb-43a0-9891-2fe3644632e0"
      },
      "source": [
        "range(1, 4, 1)\n"
      ],
      "execution_count": 17,
      "outputs": [
        {
          "output_type": "execute_result",
          "data": {
            "text/plain": [
              "range(1, 4)"
            ]
          },
          "metadata": {
            "tags": []
          },
          "execution_count": 17
        }
      ]
    },
    {
      "cell_type": "code",
      "metadata": {
        "id": "ubSu3A-NFb1M",
        "colab_type": "code",
        "colab": {
          "base_uri": "https://localhost:8080/",
          "height": 73
        },
        "outputId": "8f936a9d-76a6-4fe6-bed2-da32f9b400ac"
      },
      "source": [
        "for number in range(1, 4, 1):\n",
        "  print(number)"
      ],
      "execution_count": 18,
      "outputs": [
        {
          "output_type": "stream",
          "text": [
            "1\n",
            "2\n",
            "3\n"
          ],
          "name": "stdout"
        }
      ]
    },
    {
      "cell_type": "code",
      "metadata": {
        "id": "1fVRdp-NFrCE",
        "colab_type": "code",
        "colab": {
          "base_uri": "https://localhost:8080/",
          "height": 36
        },
        "outputId": "f697918d-00ec-4641-e3d9-04a6446d7b75"
      },
      "source": [
        "#computing powers with loop\n",
        "print (24 ** 2)\n",
        "#** is usedto denote the power of"
      ],
      "execution_count": 21,
      "outputs": [
        {
          "output_type": "stream",
          "text": [
            "576\n"
          ],
          "name": "stdout"
        }
      ]
    },
    {
      "cell_type": "code",
      "metadata": {
        "id": "IZ5OsO1xF2f-",
        "colab_type": "code",
        "colab": {}
      },
      "source": [
        "#reversing a string\n",
        "#using + operater can concatenate a new string"
      ],
      "execution_count": 22,
      "outputs": []
    },
    {
      "cell_type": "code",
      "metadata": {
        "id": "OUaByRxDGWYi",
        "colab_type": "code",
        "colab": {
          "base_uri": "https://localhost:8080/",
          "height": 36
        },
        "outputId": "050e445d-89f7-45fb-fdb2-90eee6c23c62"
      },
      "source": [
        "newstring = ''\n",
        "oldstring = 'Newton'\n",
        "for char in oldstring:\n",
        "  newstring = char + newstring\n",
        "print(newstring)"
      ],
      "execution_count": 24,
      "outputs": [
        {
          "output_type": "stream",
          "text": [
            "notweN\n"
          ],
          "name": "stdout"
        }
      ]
    },
    {
      "cell_type": "code",
      "metadata": {
        "id": "E7V3j5ItGigF",
        "colab_type": "code",
        "colab": {}
      },
      "source": [
        "#computing value of a polynomial\n",
        "# enumerate takes a sequence and generates a new sequence\n",
        "#code below loops through a_list assigning index to idx and the value to val\n",
        "\n",
        "\n",
        "x = 5"
      ],
      "execution_count": 25,
      "outputs": []
    },
    {
      "cell_type": "code",
      "metadata": {
        "id": "lXcPv7l4HGjZ",
        "colab_type": "code",
        "colab": {
          "base_uri": "https://localhost:8080/",
          "height": 36
        },
        "outputId": "94c6d85b-a370-40e3-9cc4-00a365da7f13"
      },
      "source": [
        "x = 5\n",
        "coefs = [2, 4, 3]\n",
        "y = coefs[0] * x**0 + coefs[1] * x**1 + coefs[2] * x**2\n",
        "print(y)"
      ],
      "execution_count": 26,
      "outputs": [
        {
          "output_type": "stream",
          "text": [
            "97\n"
          ],
          "name": "stdout"
        }
      ]
    },
    {
      "cell_type": "code",
      "metadata": {
        "id": "VyojnPmNHgR4",
        "colab_type": "code",
        "colab": {}
      },
      "source": [
        ""
      ],
      "execution_count": null,
      "outputs": []
    }
  ]
}